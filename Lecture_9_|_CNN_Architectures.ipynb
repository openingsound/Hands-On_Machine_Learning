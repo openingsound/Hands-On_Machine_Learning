{
  "nbformat": 4,
  "nbformat_minor": 0,
  "metadata": {
    "colab": {
      "name": "Lecture 9 | CNN Architectures",
      "provenance": [],
      "private_outputs": true,
      "collapsed_sections": [],
      "authorship_tag": "ABX9TyOlpcgyK6RyXRdbIk0epvYH",
      "include_colab_link": true
    },
    "kernelspec": {
      "name": "python3",
      "display_name": "Python 3"
    }
  },
  "cells": [
    {
      "cell_type": "markdown",
      "metadata": {
        "id": "view-in-github",
        "colab_type": "text"
      },
      "source": [
        "<a href=\"https://colab.research.google.com/github/openingsound/Hands-On_Machine_Learning/blob/master/Lecture_9_%7C_CNN_Architectures.ipynb\" target=\"_parent\"><img src=\"https://colab.research.google.com/assets/colab-badge.svg\" alt=\"Open In Colab\"/></a>"
      ]
    },
    {
      "cell_type": "markdown",
      "metadata": {
        "id": "qukuzNuF9cIi"
      },
      "source": [
        "# Lecture 9 | CNN Architectures\n"
      ]
    },
    {
      "cell_type": "markdown",
      "metadata": {
        "id": "6wOLUjVb9cLC"
      },
      "source": [
        "   ## AlexNet\n",
        "   * 최초의 Large sclae CNN\n",
        "   * CNN의 인기 폭발 요인\n",
        "   * DATA Agumentation\n",
        "   * wight decay, lr decay  \n",
        "   * CNN 병목현상\n",
        "   * vgg 16 vs vgg 19\n",
        "   * lcalization\n",
        "   * Inception module\n",
        "   * local topology\n",
        "   * 1*1 convolution\n",
        "   * Googlenet  1*1conv위치가 왜 conv 3*3 , 5*5 랑 pool 위치가 왜 다른가? \n",
        "   * FC 에서 average pooling \n",
        "   * Googlenet 에서 보조 분류기의 결과를 사용하는지 \n",
        "   * residual connections\n",
        "   * 영어 공부하기\n",
        "   * residual mapping \n",
        "    * skip connection \n",
        "    * Depth-wise padding\n",
        "    * residual 로 잘 학습이 되는 이유\n",
        "\n",
        "    * Global Average Pooling Layer\n",
        "    * 256 받아서 줄였다가 다시 늘린다?!?!?!?!??!?\n",
        "    * 왜 drop out 안씀?  \n",
        "\n",
        "    * 사람이 ILSVRC 2015 분류 얼마나 걸렸을까 andrew   \n",
        "    * Stochastic dep\n",
        "\n",
        "    * partical usage"
      ]
    },
    {
      "cell_type": "markdown",
      "metadata": {
        "id": "EbnwhV0S9cO0"
      },
      "source": [
        ""
      ]
    },
    {
      "cell_type": "markdown",
      "metadata": {
        "id": "ebk6CtZM9cRf"
      },
      "source": [
        ""
      ]
    },
    {
      "cell_type": "markdown",
      "metadata": {
        "id": "1KUYMgol9cTl"
      },
      "source": [
        ""
      ]
    },
    {
      "cell_type": "markdown",
      "metadata": {
        "id": "q_ag9QUh9cVs"
      },
      "source": [
        ""
      ]
    },
    {
      "cell_type": "markdown",
      "metadata": {
        "id": "zktTtzYT9cXw"
      },
      "source": [
        ""
      ]
    },
    {
      "cell_type": "markdown",
      "metadata": {
        "id": "btgvgJnC9caL"
      },
      "source": [
        ""
      ]
    },
    {
      "cell_type": "markdown",
      "metadata": {
        "id": "t3WjzYc69ccW"
      },
      "source": [
        ""
      ]
    }
  ]
}